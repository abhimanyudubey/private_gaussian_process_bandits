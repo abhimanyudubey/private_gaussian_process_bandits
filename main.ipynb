{
 "cells": [
  {
   "cell_type": "code",
   "execution_count": null,
   "metadata": {},
   "outputs": [
    {
     "name": "stdout",
     "output_type": "stream",
     "text": [
      "Running round 1 of 5\n",
      "Running round 2 of 5\n",
      "Running round 3 of 5\n",
      "Running round 4 of 5\n",
      "Running round 5 of 5\n"
     ]
    }
   ],
   "source": [
    "import private_gp as gp\n",
    "import matplotlib.pyplot as plt\n",
    "import numpy as np\n",
    "\n",
    "exp = gp.Experiment('Random Test', T=2000, n=10, d=5, m=0, k=5, kernel='rbf')\n",
    "\n",
    "exp.add_algorithm(gp.GP_UCB(kernel='rbf', m=0, lam=100), 'GP-UCB 100')\n",
    "exp.add_algorithm(gp.QFF_GP_UCB(kernel='rbf', m=1024, lam=100, d=5), 'QFF-GP-UCB@20')\n",
    "# exp.add_algorithm(gp.Random(), 'Random')\n",
    "\n",
    "exp.run()\n",
    "exp.plot_figure()"
   ]
  },
  {
   "cell_type": "code",
   "execution_count": null,
   "metadata": {},
   "outputs": [],
   "source": []
  }
 ],
 "metadata": {
  "kernelspec": {
   "display_name": "Python 3",
   "language": "python",
   "name": "python3"
  },
  "language_info": {
   "codemirror_mode": {
    "name": "ipython",
    "version": 3
   },
   "file_extension": ".py",
   "mimetype": "text/x-python",
   "name": "python",
   "nbconvert_exporter": "python",
   "pygments_lexer": "ipython3",
   "version": "3.6.8"
  }
 },
 "nbformat": 4,
 "nbformat_minor": 2
}
